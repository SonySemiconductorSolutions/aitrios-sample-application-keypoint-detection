{
 "cells": [
  {
   "cell_type": "code",
   "execution_count": null,
   "metadata": {},
   "outputs": [],
   "source": [
    "# Copyright 2022-2023 Sony Semiconductor Solutions Corp. All rights reserved.\n",
    "#\n",
    "# Licensed under the Apache License, Version 2.0 (the \"License\");\n",
    "# you may not use this file except in compliance with the License.\n",
    "# You may obtain a copy of the License at\n",
    "#\n",
    "#     http://www.apache.org/licenses/LICENSE-2.0\n",
    "#\n",
    "# Unless required by applicable law or agreed to in writing, software\n",
    "# distributed under the License is distributed on an \"AS IS\" BASIS,\n",
    "# WITHOUT WARRANTIES OR CONDITIONS OF ANY KIND, either express or implied.\n",
    "# See the License for the specific language governing permissions and\n",
    "# limitations under the License."
   ]
  },
  {
   "attachments": {},
   "cell_type": "markdown",
   "metadata": {},
   "source": [
    "# Import model to Console for AITRIOS\n",
    "\n",
    "This notebook explains the workflow for importing model to \"Console\".\n",
    "\n",
    "Instructions are described in [README.md](./README.md).\n",
    "\n",
    "**ATTENTION!** <br>\n",
    "The Console client used in this notebook is **not ConsoleAccessLibrary**, but a proprietary Client generated using OpenAPI Generator."
   ]
  },
  {
   "cell_type": "markdown",
   "metadata": {},
   "source": [
    "## Import modules"
   ]
  },
  {
   "cell_type": "code",
   "execution_count": null,
   "metadata": {},
   "outputs": [],
   "source": [
    "import errno\n",
    "import json\n",
    "from pathlib import Path\n",
    "\n",
    "import jsonschema\n",
    "import yaml\n",
    "\n",
    "from console_access_api.aitrios_console import AitriosConsole"
   ]
  },
  {
   "cell_type": "markdown",
   "metadata": {},
   "source": [
    "## Load Configurations\n",
    "\n",
    "Load the configuration file and set the variables."
   ]
  },
  {
   "cell_type": "code",
   "execution_count": null,
   "metadata": {},
   "outputs": [],
   "source": [
    "def validate_symlink(path: Path):\n",
    "    if path.is_symlink():\n",
    "        raise OSError(\n",
    "            errno.ELOOP,\n",
    "            \"Symbolic link is not supported. Please use real folder or file\",\n",
    "            f\"{path}\",\n",
    "        )\n",
    "\n",
    "configuration_path = Path(\"./configuration.json\")\n",
    "validate_symlink(configuration_path)\n",
    "\n",
    "# Load configuration file\n",
    "with open(configuration_path, \"r\") as f:\n",
    "    json_load = json.load(f)\n",
    "\n",
    "configuration_schema_path = Path(\"./configuration_schema.json\")\n",
    "validate_symlink(configuration_schema_path)\n",
    "\n",
    "# Load configuration schema file\n",
    "with open(configuration_schema_path, \"r\") as f:\n",
    "    json_schema = json.load(f)\n",
    "\n",
    "# Validate configuration\n",
    "jsonschema.validate(json_load, json_schema)\n",
    "\n",
    "# Set default network_type\n",
    "if json_load.get(\"network_type\") is None:\n",
    "    json_load.update({\"network_type\": \"0\"})"
   ]
  },
  {
   "cell_type": "markdown",
   "metadata": {},
   "source": [
    "## Initialize Console access client"
   ]
  },
  {
   "cell_type": "code",
   "execution_count": null,
   "metadata": {},
   "outputs": [],
   "source": [
    "console_setting_path = Path(\"./console_access_settings.yaml\")\n",
    "validate_symlink(console_setting_path)\n",
    "\n",
    "with open(console_setting_path, \"r\") as f:\n",
    "    yaml_load = yaml.safe_load(f)\n",
    "    BASE_URL = yaml_load[\"console_access_settings\"][\"console_endpoint\"]\n",
    "    CLIENT_ID = yaml_load[\"console_access_settings\"][\"client_id\"]\n",
    "    CLIENT_SECRET = yaml_load[\"console_access_settings\"][\"client_secret\"]\n",
    "    GCS_OKTA_DOMAIN = yaml_load[\"console_access_settings\"][\"portal_authorization_endpoint\"]\n",
    "\n",
    "console_access_api = AitriosConsole(BASE_URL, CLIENT_ID, CLIENT_SECRET, GCS_OKTA_DOMAIN)"
   ]
  },
  {
   "cell_type": "markdown",
   "metadata": {},
   "source": [
    "## Upload AI Model\n",
    "\n",
    "Place the AI model (.tflite format) in the same directory. \n",
    "\n",
    "When the code block is executed, an input form will appear, in which you enter the file name of the model (if nothing is entered, the default value *posenet_mobilenet_v1_075_353_481_quant.tflite* will be used)."
   ]
  },
  {
   "cell_type": "code",
   "execution_count": null,
   "metadata": {},
   "outputs": [],
   "source": [
    "# get model name\n",
    "default_file_name = \"posenet_mobilenet_v1_075_353_481_quant.tflite\"\n",
    "\n",
    "input_file_name = input()\n",
    "if input_file_name != None and input_file_name != \"\":\n",
    "    file_name = input_file_name\n",
    "else:\n",
    "    file_name = default_file_name\n",
    "\n",
    "file_path = Path(f\"./{file_name}\")\n",
    "validate_symlink(file_path)\n",
    "\n",
    "# open model file\n",
    "with open(file_path, \"rb\") as f:\n",
    "    # Call an API to upload model file\n",
    "    try:\n",
    "        response = console_access_api.UploadFile(type_code=\"NonConverted\", file_name=file_name, file=f)\n",
    "    except Exception as e:\n",
    "        raise e\n",
    "\n",
    "# response error check\n",
    "if \"result\" in response and response[\"result\"] != \"SUCCESS\":\n",
    "    # ERROR\n",
    "    raise ValueError(\"ERROR\", response)\n",
    "\n",
    "# SUCCESS\n",
    "model_file_id = response[\"file_info\"][\"id\"]\n",
    "model_name = response[\"file_info\"][\"name\"]\n",
    "\n",
    "print(\"Model file uploaded successfully.\" + \" \\n\\tmodel_name: \" + model_name + \" \\n\\tmodel_file_id: \" + model_file_id)\n",
    "\n",
    "# add assigned id to configuration\n",
    "json_load.update({\"model_file_id\": model_file_id})"
   ]
  },
  {
   "cell_type": "markdown",
   "metadata": {},
   "source": [
    "## Import AI model"
   ]
  },
  {
   "cell_type": "code",
   "execution_count": null,
   "metadata": {},
   "outputs": [],
   "source": [
    "# Call an API to import AI model into Console for AITRIOS\n",
    "try:\n",
    "    response = console_access_api.ImportBaseModel(json_load)\n",
    "except Exception as e:\n",
    "    # EXCEPTION\n",
    "    raise e\n",
    "\n",
    "# response error check\n",
    "if \"result\" in response and response[\"result\"] != \"SUCCESS\":\n",
    "    # ERROR\n",
    "    raise ValueError(\"ERROR\", response)\n",
    "\n",
    "# SUCCESS\n",
    "print(\"Start to import the AI model.\" + \" \\n\\tmodel_id: \" + json_load[\"model_id\"])"
   ]
  },
  {
   "cell_type": "markdown",
   "metadata": {},
   "source": [
    "## Get AI model status"
   ]
  },
  {
   "cell_type": "code",
   "execution_count": null,
   "metadata": {},
   "outputs": [],
   "source": [
    "def get_base_model_status(model_id: str):\n",
    "    # AI model status on Console\n",
    "    status_dictionary = {\n",
    "        \"00\": \"Conversion project created\",\n",
    "        \"01\": \"Importing completed (Before conversion)\",\n",
    "        \"02\": \"Converting...\",\n",
    "        \"03\": \"Conversion failed\",\n",
    "        \"04\": \"Converted\",\n",
    "        \"05\": \"Adding to configuration\",\n",
    "        \"06\": \"Conversion failed\",\n",
    "        \"07\": \"Conversion completed\",\n",
    "        \"11\": \"Saving\",\n",
    "    }\n",
    "    # Flag for check\n",
    "    exist_flag = False\n",
    "    # Call an API for get AI model info\n",
    "    try:\n",
    "        response = console_access_api.GetBaseModelStatus(model_id=model_id)\n",
    "    except Exception as e:\n",
    "        # EXCEPTION\n",
    "        raise e\n",
    "\n",
    "    # response error check\n",
    "    if \"result\" in response and response[\"result\"] != \"SUCCESS\":\n",
    "        # ERROR\n",
    "        raise ValueError(\"ERROR\", response)\n",
    "\n",
    "    # SUCCESS\n",
    "    # Create output list\n",
    "    if \"projects\" in response:\n",
    "        project = response[\"projects\"][0]\n",
    "        if \"versions\" in project:\n",
    "            version_status = project[\"versions\"][0][\"version_status\"]\n",
    "            exist_flag = True\n",
    "\n",
    "    if exist_flag:\n",
    "        return status_dictionary.get(\n",
    "            version_status, \"Unknown status '\" + version_status + \"'\"\n",
    "        )\n",
    "    else:\n",
    "        raise Exception(\"AI model is not found. (model_id: \" + model_id + \")\")\n",
    "\n",
    "\n",
    "get_status = get_base_model_status(json_load[\"model_id\"])\n",
    "print(get_status + \" \\n\\tmodel_id: \" + json_load[\"model_id\"])"
   ]
  },
  {
   "cell_type": "markdown",
   "metadata": {},
   "source": [
    "## Convert AI model"
   ]
  },
  {
   "cell_type": "code",
   "execution_count": null,
   "metadata": {},
   "outputs": [],
   "source": [
    "# Call an API to convert AI model on Console for AITRIOS\n",
    "try:\n",
    "    response = console_access_api.PublishModel(model_id=json_load[\"model_id\"])\n",
    "except Exception as e:\n",
    "    # EXCEPTION\n",
    "    raise e\n",
    "\n",
    "# response error check\n",
    "if \"result\" in response and response[\"result\"] != \"SUCCESS\":\n",
    "    # ERROR\n",
    "    raise ValueError(\"ERROR\", response)\n",
    "\n",
    "# SUCCESS\n",
    "print(\"Start to convert the AI model.\" + \" \\n\\tmodel_id: \" + json_load[\"model_id\"])"
   ]
  },
  {
   "cell_type": "markdown",
   "metadata": {},
   "source": [
    "## Get AI model status after conversion\n",
    "\n",
    "Converting takes time.\n",
    "\n",
    "To complete the conversion, ensure that the conversion status is Conversion completed.\n",
    "\n",
    "After you start the conversion, run the following code cell to check the status :"
   ]
  },
  {
   "cell_type": "code",
   "execution_count": null,
   "metadata": {},
   "outputs": [],
   "source": [
    "convert_status = get_base_model_status(json_load[\"model_id\"])\n",
    "print(convert_status + \" \\n\\tmodel_id: \" + json_load[\"model_id\"])"
   ]
  }
 ],
 "metadata": {
  "kernelspec": {
   "display_name": "Python 3",
   "language": "python",
   "name": "python3"
  },
  "language_info": {
   "codemirror_mode": {
    "name": "ipython",
    "version": 3
   },
   "file_extension": ".py",
   "mimetype": "text/x-python",
   "name": "python",
   "nbconvert_exporter": "python",
   "pygments_lexer": "ipython3",
   "version": "3.9.17"
  },
  "orig_nbformat": 4
 },
 "nbformat": 4,
 "nbformat_minor": 2
}
